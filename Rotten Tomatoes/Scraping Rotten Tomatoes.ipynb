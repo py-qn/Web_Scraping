{
 "cells": [
  {
   "cell_type": "code",
   "execution_count": 1,
   "metadata": {},
   "outputs": [],
   "source": [
    "# load packages\n",
    "import requests\n",
    "from bs4 import BeautifulSoup"
   ]
  },
  {
   "cell_type": "code",
   "execution_count": 2,
   "metadata": {},
   "outputs": [],
   "source": [
    "#the URL of the site\n",
    "base_site = \"https://editorial.rottentomatoes.com/guide/140-essential-action-movies-to-watch-now/\""
   ]
  },
  {
   "cell_type": "code",
   "execution_count": 3,
   "metadata": {},
   "outputs": [
    {
     "data": {
      "text/plain": [
       "200"
      ]
     },
     "execution_count": 3,
     "metadata": {},
     "output_type": "execute_result"
    }
   ],
   "source": [
    "# sending a request to the webpage\n",
    "response = requests.get(base_site)\n",
    "response.status_code"
   ]
  },
  {
   "cell_type": "code",
   "execution_count": 4,
   "metadata": {},
   "outputs": [],
   "source": [
    "# get the HTML from the webpage\n",
    "html = response.content"
   ]
  },
  {
   "cell_type": "code",
   "execution_count": 5,
   "metadata": {},
   "outputs": [],
   "source": [
    "# convert the HTML to a BeatifulSoup object\n",
    "soup = BeautifulSoup(html, 'lxml')"
   ]
  },
  {
   "cell_type": "code",
   "execution_count": 6,
   "metadata": {},
   "outputs": [],
   "source": [
    "# Exporting the HTML to a file\n",
    "with open('Rotten_tomatoes_page_2_LXML_Parser.html', 'wb') as file:\n",
    "    file.write(soup.prettify('utf-8'))"
   ]
  },
  {
   "cell_type": "markdown",
   "metadata": {},
   "source": [
    "## Finding an element containing all the data"
   ]
  },
  {
   "cell_type": "code",
   "execution_count": 7,
   "metadata": {},
   "outputs": [],
   "source": [
    "# Find all div tags on the webpage containing the information we want to scrape\n",
    "divs = soup.find_all(\"div\", {\"class\": \"col-sm-18 col-full-xs countdown-item-content\"})"
   ]
  },
  {
   "cell_type": "markdown",
   "metadata": {},
   "source": [
    "# Extracting the title, year and score of each movie"
   ]
  },
  {
   "cell_type": "code",
   "execution_count": 8,
   "metadata": {},
   "outputs": [],
   "source": [
    "# The title, year and score of each movie are contained in the 'h2' tags"
   ]
  },
  {
   "cell_type": "code",
   "execution_count": 9,
   "metadata": {},
   "outputs": [],
   "source": [
    "# Extracting all 'h2' tags\n",
    "headings = [div.find(\"h2\") for div in divs]"
   ]
  },
  {
   "cell_type": "code",
   "execution_count": 10,
   "metadata": {
    "scrolled": true
   },
   "outputs": [
    {
     "data": {
      "text/plain": [
       "'Running Scared (1986)  59%58%'"
      ]
     },
     "execution_count": 10,
     "metadata": {},
     "output_type": "execute_result"
    }
   ],
   "source": [
    "# Inspecting the text inside the headings\n",
    "[heading.text for heading in headings][0]"
   ]
  },
  {
   "cell_type": "code",
   "execution_count": 11,
   "metadata": {},
   "outputs": [],
   "source": [
    "#  notice that:\n",
    "\n",
    "# The movie title is in the 'a' tag\n",
    "# The year is in a 'span' with class 'start-year'\n",
    "# The score is in a 'span' with class 'tMeterScore'"
   ]
  },
  {
   "cell_type": "markdown",
   "metadata": {},
   "source": [
    "## Title"
   ]
  },
  {
   "cell_type": "code",
   "execution_count": 12,
   "metadata": {
    "scrolled": true
   },
   "outputs": [
    {
     "data": {
      "text/plain": [
       "<a href=\"https://www.rottentomatoes.com/m/1018009-running_scared\">Running Scared</a>"
      ]
     },
     "execution_count": 12,
     "metadata": {},
     "output_type": "execute_result"
    }
   ],
   "source": [
    "# Let's check all heading links\n",
    "[heading.find('a') for heading in headings][0]"
   ]
  },
  {
   "cell_type": "code",
   "execution_count": 13,
   "metadata": {
    "scrolled": true
   },
   "outputs": [
    {
     "data": {
      "text/plain": [
       "['Running Scared', 'Equilibrium', 'Hero', 'Road House', 'Unstoppable']"
      ]
     },
     "execution_count": 13,
     "metadata": {},
     "output_type": "execute_result"
    }
   ],
   "source": [
    "# Obtaining the movie titles from the links\n",
    "movie_names = [heading.find('a').string for heading in headings]\n",
    "movie_names[:5]"
   ]
  },
  {
   "cell_type": "markdown",
   "metadata": {},
   "source": [
    "## Year"
   ]
  },
  {
   "cell_type": "code",
   "execution_count": 14,
   "metadata": {
    "scrolled": true
   },
   "outputs": [],
   "source": [
    "# Extracting the year string\n",
    "years = [heading.find(\"span\", class_ = 'start-year').string for heading in headings]"
   ]
  },
  {
   "cell_type": "code",
   "execution_count": 15,
   "metadata": {
    "scrolled": true
   },
   "outputs": [
    {
     "data": {
      "text/plain": [
       "[1986, 2002, 2002, 1989, 2010]"
      ]
     },
     "execution_count": 15,
     "metadata": {},
     "output_type": "execute_result"
    }
   ],
   "source": [
    "# Updating years with stripped values\n",
    "years = [int(year.strip('()')) for year in years]\n",
    "years[:5]"
   ]
  },
  {
   "cell_type": "markdown",
   "metadata": {},
   "source": [
    "## Score"
   ]
  },
  {
   "cell_type": "code",
   "execution_count": 16,
   "metadata": {
    "scrolled": true
   },
   "outputs": [
    {
     "data": {
      "text/plain": [
       "<span class=\"tMeterScore\">59%</span>"
      ]
     },
     "execution_count": 16,
     "metadata": {},
     "output_type": "execute_result"
    }
   ],
   "source": [
    "# Filtering only the spans containing the score\n",
    "[heading.find(\"span\", class_ = 'tMeterScore') for heading in headings][0]"
   ]
  },
  {
   "cell_type": "code",
   "execution_count": 17,
   "metadata": {
    "scrolled": true
   },
   "outputs": [
    {
     "data": {
      "text/plain": [
       "[59, 40, 94, 39, 87]"
      ]
     },
     "execution_count": 17,
     "metadata": {},
     "output_type": "execute_result"
    }
   ],
   "source": [
    "# Extracting the score string\n",
    "scores = [int(heading.find(\"span\", class_ = 'tMeterScore').string.strip('%')) for heading in headings]\n",
    "scores[:5]"
   ]
  },
  {
   "cell_type": "markdown",
   "metadata": {},
   "source": [
    "## Critics Consensus"
   ]
  },
  {
   "cell_type": "code",
   "execution_count": 18,
   "metadata": {},
   "outputs": [],
   "source": [
    "# The critics consensus is located inside a 'div' tag with the class 'info critics-consensus'\n",
    "# This can be found inside the original 'div's we scraped\n",
    "#divs"
   ]
  },
  {
   "cell_type": "code",
   "execution_count": 19,
   "metadata": {
    "scrolled": true
   },
   "outputs": [],
   "source": [
    "# Getting the 'div' tags containing the critics consensus\n",
    "consensus = [div.find(\"div\", {\"class\": \"info critics-consensus\"}) for div in divs]"
   ]
  },
  {
   "cell_type": "code",
   "execution_count": 20,
   "metadata": {},
   "outputs": [],
   "source": [
    "# Defining the phrase to be removed \n",
    "common_phrase = 'Critics Consensus: '"
   ]
  },
  {
   "cell_type": "code",
   "execution_count": 21,
   "metadata": {},
   "outputs": [],
   "source": [
    "# Define a variable to store the length\n",
    "common_len = len(common_phrase)"
   ]
  },
  {
   "cell_type": "code",
   "execution_count": 22,
   "metadata": {},
   "outputs": [],
   "source": [
    "# Cleaning the list of the common phrase\n",
    "consensus_text = [con.text[common_len:] for con in consensus]"
   ]
  },
  {
   "cell_type": "code",
   "execution_count": 23,
   "metadata": {},
   "outputs": [
    {
     "data": {
      "text/plain": [
       "'Running Scared struggles to strike a consistent balance between violent action and humor, but the chemistry between its well-matched leads keeps things entertaining.'"
      ]
     },
     "execution_count": 23,
     "metadata": {},
     "output_type": "execute_result"
    }
   ],
   "source": [
    "# We can add if-else logic to only truncate the string in case it starts with the common phrase\n",
    "consensus_text = [con.text[common_len:] if con.text.startswith(common_phrase) else con.text for con in consensus ]\n",
    "consensus_text[0]"
   ]
  },
  {
   "cell_type": "markdown",
   "metadata": {},
   "source": [
    "## Directors"
   ]
  },
  {
   "cell_type": "code",
   "execution_count": 24,
   "metadata": {},
   "outputs": [],
   "source": [
    "# Extracting all director divs\n",
    "directors = [div.find(\"div\", class_ = 'director') for div in divs]"
   ]
  },
  {
   "cell_type": "code",
   "execution_count": 25,
   "metadata": {
    "scrolled": true
   },
   "outputs": [
    {
     "data": {
      "text/plain": [
       "<a class=\"\" href=\"//www.rottentomatoes.com/celebrity/peter_hyams\">Peter Hyams</a>"
      ]
     },
     "execution_count": 25,
     "metadata": {},
     "output_type": "execute_result"
    }
   ],
   "source": [
    "# The director's name can be found as the string of a link\n",
    "\n",
    "# Obtaining all director links\n",
    "[director.find(\"a\") for director in directors][0]"
   ]
  },
  {
   "cell_type": "code",
   "execution_count": 26,
   "metadata": {
    "scrolled": true
   },
   "outputs": [
    {
     "data": {
      "text/plain": [
       "['Peter Hyams', 'Kurt Wimmer', 'Zhang Yimou', 'Rowdy Herrington', 'Tony Scott']"
      ]
     },
     "execution_count": 26,
     "metadata": {},
     "output_type": "execute_result"
    }
   ],
   "source": [
    "final_directors = [director.find(\"a\").string for director in directors]\n",
    "final_directors[:5]"
   ]
  },
  {
   "cell_type": "markdown",
   "metadata": {},
   "source": [
    "## Cast info"
   ]
  },
  {
   "cell_type": "code",
   "execution_count": 27,
   "metadata": {},
   "outputs": [],
   "source": [
    "cast_info = [div.find(\"div\", class_ = 'cast') for div in divs]"
   ]
  },
  {
   "cell_type": "code",
   "execution_count": 28,
   "metadata": {},
   "outputs": [],
   "source": [
    "# Each cast member's name is the string of a link\n",
    "# There are multiple cast members for a movie"
   ]
  },
  {
   "cell_type": "code",
   "execution_count": 29,
   "metadata": {
    "scrolled": true
   },
   "outputs": [
    {
     "data": {
      "text/plain": [
       "['Gregory Hines, Billy Crystal, Jimmy Smits, Steven Bauer',\n",
       " 'Christian Bale, Emily Watson, Taye Diggs, Angus Macfadyen',\n",
       " 'Jet Li, Tony Leung Chiu Wai, Maggie Cheung Man-yuk, Donnie Yen',\n",
       " 'Patrick Swayze, Kelly Lynch, Sam Elliott, Ben Gazzara',\n",
       " 'Denzel Washington, Chris Pine, Rosario Dawson, Kevin Dunn']"
      ]
     },
     "execution_count": 29,
     "metadata": {},
     "output_type": "execute_result"
    }
   ],
   "source": [
    "# Initialize the list of all cast memners\n",
    "cast = []\n",
    "for c in cast_info:\n",
    "    cast_links = c.find_all('a')\n",
    "    cast_names = [link.string for link in cast_links]\n",
    "    \n",
    "    cast.append(\", \".join(cast_names)) \n",
    "\n",
    "cast[:5]"
   ]
  },
  {
   "cell_type": "markdown",
   "metadata": {},
   "source": [
    "## Synopsis"
   ]
  },
  {
   "cell_type": "code",
   "execution_count": 30,
   "metadata": {},
   "outputs": [],
   "source": [
    "# The synopsis is located inside a 'div' tag with the class 'info synopsis'\n",
    "synopsis = [div.find('div', class_='synopsis') for div in divs]"
   ]
  },
  {
   "cell_type": "code",
   "execution_count": 31,
   "metadata": {
    "scrolled": true
   },
   "outputs": [
    {
     "data": {
      "text/plain": [
       "['Ray and Danny (Gregory Hines, Billy Crystal) are two Chicago police detectives hot on the trail of drug kingpin Julio...',\n",
       " 'In a futuristic world, a regime has eliminated war by suppressing emotions: books, art and music are strictly forbidden and...',\n",
       " 'In this visually arresting martial arts epic set in ancient China, an unnamed fighter (Jet Li) is being honored for...',\n",
       " 'The Double Deuce is the meanest, loudest and rowdiest bar south of the Mason-Dixon Line, and Dalton (Patrick Swayze) has...',\n",
       " 'When a massive, unmanned locomotive roars out of control, the threat is more ominous than just a derailment. The train...']"
      ]
     },
     "execution_count": 31,
     "metadata": {},
     "output_type": "execute_result"
    }
   ],
   "source": [
    "# Extracting the text\n",
    "synopsis_text = [syn.contents[1].strip() for syn in synopsis]\n",
    "synopsis_text[:5]"
   ]
  },
  {
   "cell_type": "markdown",
   "metadata": {},
   "source": [
    "# Representing the data in structured form"
   ]
  },
  {
   "cell_type": "code",
   "execution_count": 32,
   "metadata": {},
   "outputs": [],
   "source": [
    "# load the pandas package\n",
    "import pandas as pd"
   ]
  },
  {
   "cell_type": "markdown",
   "metadata": {},
   "source": [
    "## Creating a Data Frame"
   ]
  },
  {
   "cell_type": "code",
   "execution_count": 33,
   "metadata": {},
   "outputs": [
    {
     "name": "stderr",
     "output_type": "stream",
     "text": [
      "<ipython-input-33-40b8fe86d72e>:10: FutureWarning: Passing a negative integer is deprecated in version 1.0 and will not be supported in future version. Instead, use None to not limit the column width.\n",
      "  pd.set_option('display.max_colwidth', -1)\n"
     ]
    },
    {
     "data": {
      "text/html": [
       "<div>\n",
       "<style scoped>\n",
       "    .dataframe tbody tr th:only-of-type {\n",
       "        vertical-align: middle;\n",
       "    }\n",
       "\n",
       "    .dataframe tbody tr th {\n",
       "        vertical-align: top;\n",
       "    }\n",
       "\n",
       "    .dataframe thead th {\n",
       "        text-align: right;\n",
       "    }\n",
       "</style>\n",
       "<table border=\"1\" class=\"dataframe\">\n",
       "  <thead>\n",
       "    <tr style=\"text-align: right;\">\n",
       "      <th></th>\n",
       "      <th>Movie Title</th>\n",
       "      <th>Year</th>\n",
       "      <th>Score</th>\n",
       "      <th>Director</th>\n",
       "      <th>Synopsis</th>\n",
       "      <th>Cast</th>\n",
       "      <th>Consensus</th>\n",
       "    </tr>\n",
       "  </thead>\n",
       "  <tbody>\n",
       "    <tr>\n",
       "      <th>0</th>\n",
       "      <td>Running Scared</td>\n",
       "      <td>1986</td>\n",
       "      <td>59</td>\n",
       "      <td>Peter Hyams</td>\n",
       "      <td>Ray and Danny (Gregory Hines, Billy Crystal) are two Chicago police detectives hot on the trail of drug kingpin Julio...</td>\n",
       "      <td>Gregory Hines, Billy Crystal, Jimmy Smits, Steven Bauer</td>\n",
       "      <td>Running Scared struggles to strike a consistent balance between violent action and humor, but the chemistry between its well-matched leads keeps things entertaining.</td>\n",
       "    </tr>\n",
       "    <tr>\n",
       "      <th>1</th>\n",
       "      <td>Equilibrium</td>\n",
       "      <td>2002</td>\n",
       "      <td>40</td>\n",
       "      <td>Kurt Wimmer</td>\n",
       "      <td>In a futuristic world, a regime has eliminated war by suppressing emotions: books, art and music are strictly forbidden and...</td>\n",
       "      <td>Christian Bale, Emily Watson, Taye Diggs, Angus Macfadyen</td>\n",
       "      <td>Equilibrium is a reheated mishmash of other sci-fi movies.</td>\n",
       "    </tr>\n",
       "    <tr>\n",
       "      <th>2</th>\n",
       "      <td>Hero</td>\n",
       "      <td>2002</td>\n",
       "      <td>94</td>\n",
       "      <td>Zhang Yimou</td>\n",
       "      <td>In this visually arresting martial arts epic set in ancient China, an unnamed fighter (Jet Li) is being honored for...</td>\n",
       "      <td>Jet Li, Tony Leung Chiu Wai, Maggie Cheung Man-yuk, Donnie Yen</td>\n",
       "      <td>With death-defying action sequences and epic historic sweep, Hero offers everything a martial arts fan could ask for.</td>\n",
       "    </tr>\n",
       "    <tr>\n",
       "      <th>3</th>\n",
       "      <td>Road House</td>\n",
       "      <td>1989</td>\n",
       "      <td>39</td>\n",
       "      <td>Rowdy Herrington</td>\n",
       "      <td>The Double Deuce is the meanest, loudest and rowdiest bar south of the Mason-Dixon Line, and Dalton (Patrick Swayze) has...</td>\n",
       "      <td>Patrick Swayze, Kelly Lynch, Sam Elliott, Ben Gazzara</td>\n",
       "      <td>Whether Road House is simply bad or so bad it's good depends largely on the audience's fondness for Swayze -- and tolerance for violently cheesy action.</td>\n",
       "    </tr>\n",
       "    <tr>\n",
       "      <th>4</th>\n",
       "      <td>Unstoppable</td>\n",
       "      <td>2010</td>\n",
       "      <td>87</td>\n",
       "      <td>Tony Scott</td>\n",
       "      <td>When a massive, unmanned locomotive roars out of control, the threat is more ominous than just a derailment. The train...</td>\n",
       "      <td>Denzel Washington, Chris Pine, Rosario Dawson, Kevin Dunn</td>\n",
       "      <td>As fast, loud, and relentless as the train at the center of the story, Unstoppable is perfect popcorn entertainment -- and director Tony Scott's best movie in years.</td>\n",
       "    </tr>\n",
       "  </tbody>\n",
       "</table>\n",
       "</div>"
      ],
      "text/plain": [
       "      Movie Title  Year  Score          Director  \\\n",
       "0  Running Scared  1986  59     Peter Hyams        \n",
       "1  Equilibrium     2002  40     Kurt Wimmer        \n",
       "2  Hero            2002  94     Zhang Yimou        \n",
       "3  Road House      1989  39     Rowdy Herrington   \n",
       "4  Unstoppable     2010  87     Tony Scott         \n",
       "\n",
       "                                                                                                                         Synopsis  \\\n",
       "0  Ray and Danny (Gregory Hines, Billy Crystal) are two Chicago police detectives hot on the trail of drug kingpin Julio...         \n",
       "1  In a futuristic world, a regime has eliminated war by suppressing emotions: books, art and music are strictly forbidden and...   \n",
       "2  In this visually arresting martial arts epic set in ancient China, an unnamed fighter (Jet Li) is being honored for...           \n",
       "3  The Double Deuce is the meanest, loudest and rowdiest bar south of the Mason-Dixon Line, and Dalton (Patrick Swayze) has...      \n",
       "4  When a massive, unmanned locomotive roars out of control, the threat is more ominous than just a derailment. The train...        \n",
       "\n",
       "                                                             Cast  \\\n",
       "0  Gregory Hines, Billy Crystal, Jimmy Smits, Steven Bauer          \n",
       "1  Christian Bale, Emily Watson, Taye Diggs, Angus Macfadyen        \n",
       "2  Jet Li, Tony Leung Chiu Wai, Maggie Cheung Man-yuk, Donnie Yen   \n",
       "3  Patrick Swayze, Kelly Lynch, Sam Elliott, Ben Gazzara            \n",
       "4  Denzel Washington, Chris Pine, Rosario Dawson, Kevin Dunn        \n",
       "\n",
       "                                                                                                                                                               Consensus  \n",
       "0  Running Scared struggles to strike a consistent balance between violent action and humor, but the chemistry between its well-matched leads keeps things entertaining.  \n",
       "1  Equilibrium is a reheated mishmash of other sci-fi movies.                                                                                                             \n",
       "2  With death-defying action sequences and epic historic sweep, Hero offers everything a martial arts fan could ask for.                                                  \n",
       "3  Whether Road House is simply bad or so bad it's good depends largely on the audience's fondness for Swayze -- and tolerance for violently cheesy action.               \n",
       "4  As fast, loud, and relentless as the train at the center of the story, Unstoppable is perfect popcorn entertainment -- and director Tony Scott's best movie in years.  "
      ]
     },
     "execution_count": 33,
     "metadata": {},
     "output_type": "execute_result"
    }
   ],
   "source": [
    "movies_info = pd.DataFrame()\n",
    "movies_info[\"Movie Title\"] = movie_names\n",
    "movies_info[\"Year\"] = years\n",
    "movies_info[\"Score\"] = scores\n",
    "movies_info[\"Director\"] = final_directors\n",
    "movies_info[\"Synopsis\"] = synopsis_text  \n",
    "movies_info[\"Cast\"] = cast\n",
    "movies_info[\"Consensus\"] = consensus_text\n",
    "\n",
    "pd.set_option('display.max_colwidth', -1)\n",
    "movies_info.head(5)"
   ]
  },
  {
   "cell_type": "markdown",
   "metadata": {},
   "source": [
    "## Exporting the data to CSV (comma-separated values) and excel files"
   ]
  },
  {
   "cell_type": "code",
   "execution_count": 34,
   "metadata": {},
   "outputs": [],
   "source": [
    "# Write data to excel file\n",
    "movies_info.to_excel(\"movies_info.xlsx\", index = False, header = True)"
   ]
  },
  {
   "cell_type": "code",
   "execution_count": 35,
   "metadata": {},
   "outputs": [],
   "source": [
    "# or write data to CSV file\n",
    "movies_info.to_csv(\"movies_info.csv\", index = False, header = True)"
   ]
  }
 ],
 "metadata": {
  "kernelspec": {
   "display_name": "Python 3",
   "language": "python",
   "name": "python3"
  },
  "language_info": {
   "codemirror_mode": {
    "name": "ipython",
    "version": 3
   },
   "file_extension": ".py",
   "mimetype": "text/x-python",
   "name": "python",
   "nbconvert_exporter": "python",
   "pygments_lexer": "ipython3",
   "version": "3.8.5"
  }
 },
 "nbformat": 4,
 "nbformat_minor": 2
}
