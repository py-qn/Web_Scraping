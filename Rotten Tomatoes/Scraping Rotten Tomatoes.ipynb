{
 "cells": [
  {
   "cell_type": "code",
   "execution_count": null,
   "metadata": {},
   "outputs": [],
   "source": [
    "# load packages\n",
    "import requests\n",
    "from bs4 import BeautifulSoup"
   ]
  },
  {
   "cell_type": "code",
   "execution_count": null,
   "metadata": {},
   "outputs": [],
   "source": [
    "#the URL of the site\n",
    "base_site = \"https://editorial.rottentomatoes.com/guide/140-essential-action-movies-to-watch-now/\""
   ]
  },
  {
   "cell_type": "code",
   "execution_count": null,
   "metadata": {},
   "outputs": [],
   "source": [
    "# sending a request to the webpage\n",
    "response = requests.get(base_site)\n",
    "response.status_code"
   ]
  },
  {
   "cell_type": "code",
   "execution_count": null,
   "metadata": {},
   "outputs": [],
   "source": [
    "# get the HTML from the webpage\n",
    "html = response.content"
   ]
  },
  {
   "cell_type": "code",
   "execution_count": null,
   "metadata": {},
   "outputs": [],
   "source": [
    "# convert the HTML to a BeatifulSoup object\n",
    "soup = BeautifulSoup(html, 'lxml')"
   ]
  },
  {
   "cell_type": "code",
   "execution_count": null,
   "metadata": {},
   "outputs": [],
   "source": [
    "# Exporting the HTML to a file\n",
    "with open('Rotten_tomatoes_page_2_LXML_Parser.html', 'wb') as file:\n",
    "    file.write(soup.prettify('utf-8'))"
   ]
  },
  {
   "cell_type": "markdown",
   "metadata": {},
   "source": [
    "## Finding an element containing all the data"
   ]
  },
  {
   "cell_type": "code",
   "execution_count": null,
   "metadata": {},
   "outputs": [],
   "source": [
    "# Find all div tags on the webpage containing the information we want to scrape\n",
    "divs = soup.find_all(\"div\", {\"class\": \"col-sm-18 col-full-xs countdown-item-content\"})\n",
    "divs"
   ]
  },
  {
   "cell_type": "markdown",
   "metadata": {},
   "source": [
    "# Extracting the title, year and score of each movie"
   ]
  },
  {
   "cell_type": "code",
   "execution_count": null,
   "metadata": {},
   "outputs": [],
   "source": [
    "# The title, year and score of each movie are contained in the 'h2' tags"
   ]
  },
  {
   "cell_type": "code",
   "execution_count": null,
   "metadata": {},
   "outputs": [],
   "source": [
    "# Extracting all 'h2' tags\n",
    "headings = [div.find(\"h2\") for div in divs]\n",
    "headings"
   ]
  },
  {
   "cell_type": "code",
   "execution_count": null,
   "metadata": {
    "scrolled": true
   },
   "outputs": [],
   "source": [
    "# Inspecting the text inside the headings\n",
    "[heading.text for heading in headings]"
   ]
  },
  {
   "cell_type": "code",
   "execution_count": null,
   "metadata": {},
   "outputs": [],
   "source": [
    "#  notice that:\n",
    "\n",
    "# The movie title is in the 'a' tag\n",
    "# The year is in a 'span' with class 'start-year'\n",
    "# The score is in a 'span' with class 'tMeterScore'"
   ]
  },
  {
   "cell_type": "markdown",
   "metadata": {},
   "source": [
    "## Title"
   ]
  },
  {
   "cell_type": "code",
   "execution_count": null,
   "metadata": {
    "scrolled": true
   },
   "outputs": [],
   "source": [
    "# Let's check all heading links\n",
    "[heading.find('a') for heading in headings]"
   ]
  },
  {
   "cell_type": "code",
   "execution_count": null,
   "metadata": {
    "scrolled": true
   },
   "outputs": [],
   "source": [
    "# Obtaining the movie titles from the links\n",
    "movie_names = [heading.find('a').string for heading in headings]\n",
    "movie_names"
   ]
  },
  {
   "cell_type": "markdown",
   "metadata": {},
   "source": [
    "## Year"
   ]
  },
  {
   "cell_type": "code",
   "execution_count": null,
   "metadata": {
    "scrolled": true
   },
   "outputs": [],
   "source": [
    "# Extracting the year string\n",
    "years = [heading.find(\"span\", class_ = 'start-year').string for heading in headings]\n",
    "years"
   ]
  },
  {
   "cell_type": "code",
   "execution_count": null,
   "metadata": {
    "scrolled": true
   },
   "outputs": [],
   "source": [
    "# Updating years with stripped values\n",
    "years = [int(year.strip('()')) for year in years]\n",
    "years"
   ]
  },
  {
   "cell_type": "markdown",
   "metadata": {},
   "source": [
    "## Score"
   ]
  },
  {
   "cell_type": "code",
   "execution_count": null,
   "metadata": {
    "scrolled": true
   },
   "outputs": [],
   "source": [
    "# HOMEWORK\n",
    "\n",
    "# Filtering only the spans containing the score\n",
    "[heading.find(\"span\", class_ = 'tMeterScore') for heading in headings]"
   ]
  },
  {
   "cell_type": "code",
   "execution_count": null,
   "metadata": {
    "scrolled": true
   },
   "outputs": [],
   "source": [
    "# Extracting the score string\n",
    "scores = [int(heading.find(\"span\", class_ = 'tMeterScore').string.strip('%')) for heading in headings]\n",
    "scores"
   ]
  },
  {
   "cell_type": "markdown",
   "metadata": {},
   "source": [
    "## Critics Consensus"
   ]
  },
  {
   "cell_type": "code",
   "execution_count": null,
   "metadata": {},
   "outputs": [],
   "source": [
    "# The critics consensus is located inside a 'div' tag with the class 'info critics-consensus'\n",
    "# This can be found inside the original 'div's we scraped\n",
    "divs"
   ]
  },
  {
   "cell_type": "code",
   "execution_count": null,
   "metadata": {
    "scrolled": true
   },
   "outputs": [],
   "source": [
    "# Getting the 'div' tags containing the critics consensus\n",
    "consensus = [div.find(\"div\", {\"class\": \"info critics-consensus\"}) for div in divs]\n",
    "consensus"
   ]
  },
  {
   "cell_type": "code",
   "execution_count": null,
   "metadata": {},
   "outputs": [],
   "source": [
    "# Defining the phrase to be removed \n",
    "common_phrase = 'Critics Consensus: '"
   ]
  },
  {
   "cell_type": "code",
   "execution_count": null,
   "metadata": {},
   "outputs": [],
   "source": [
    "# Define a variable to store the length\n",
    "common_len = len(common_phrase)"
   ]
  },
  {
   "cell_type": "code",
   "execution_count": null,
   "metadata": {},
   "outputs": [],
   "source": [
    "# Cleaning the list of the common phrase\n",
    "consensus_text = [con.text[common_len:] for con in consensus]\n",
    "consensus_text"
   ]
  },
  {
   "cell_type": "code",
   "execution_count": null,
   "metadata": {},
   "outputs": [],
   "source": [
    "# We can add if-else logic to only truncate the string in case it starts with the common phrase\n",
    "consensus_text = [con.text[common_len:] if con.text.startswith(common_phrase) else con.text for con in consensus ]\n",
    "consensus_text"
   ]
  },
  {
   "cell_type": "markdown",
   "metadata": {},
   "source": [
    "## Directors"
   ]
  },
  {
   "cell_type": "code",
   "execution_count": null,
   "metadata": {},
   "outputs": [],
   "source": [
    "# Extracting all director divs\n",
    "directors = [div.find(\"div\", class_ = 'director') for div in divs]\n",
    "directors"
   ]
  },
  {
   "cell_type": "code",
   "execution_count": null,
   "metadata": {
    "scrolled": true
   },
   "outputs": [],
   "source": [
    "# The director's name can be found as the string of a link\n",
    "\n",
    "# Obtaining all director links\n",
    "[director.find(\"a\") for director in directors]"
   ]
  },
  {
   "cell_type": "code",
   "execution_count": null,
   "metadata": {
    "scrolled": true
   },
   "outputs": [],
   "source": [
    "final_directors = [director.find(\"a\").string for director in directors]\n",
    "final_directors"
   ]
  },
  {
   "cell_type": "markdown",
   "metadata": {},
   "source": [
    "## Cast info"
   ]
  },
  {
   "cell_type": "code",
   "execution_count": null,
   "metadata": {},
   "outputs": [],
   "source": [
    "cast_info = [div.find(\"div\", class_ = 'cast') for div in divs]\n",
    "cast_info"
   ]
  },
  {
   "cell_type": "code",
   "execution_count": null,
   "metadata": {},
   "outputs": [],
   "source": [
    "# Each cast member's name is the string of a link\n",
    "# There are multiple cast members for a movie"
   ]
  },
  {
   "cell_type": "code",
   "execution_count": null,
   "metadata": {
    "scrolled": true
   },
   "outputs": [],
   "source": [
    "# Initialize the list of all cast memners\n",
    "cast = []\n",
    "for c in cast_info:\n",
    "    cast_links = c.find_all('a')\n",
    "    cast_names = [link.string for link in cast_links]\n",
    "    \n",
    "    cast.append(\", \".join(cast_names)) \n",
    "\n",
    "cast"
   ]
  },
  {
   "cell_type": "markdown",
   "metadata": {},
   "source": [
    "## Synopsis"
   ]
  },
  {
   "cell_type": "code",
   "execution_count": null,
   "metadata": {},
   "outputs": [],
   "source": [
    "# The synopsis is located inside a 'div' tag with the class 'info synopsis'\n",
    "synopsis = [div.find('div', class_='synopsis') for div in divs]\n",
    "synopsis"
   ]
  },
  {
   "cell_type": "code",
   "execution_count": null,
   "metadata": {
    "scrolled": true
   },
   "outputs": [],
   "source": [
    "# Extracting the text\n",
    "synopsis_text = [syn.contents[1].strip() for syn in synopsis]\n",
    "synopsis_text"
   ]
  },
  {
   "cell_type": "markdown",
   "metadata": {},
   "source": [
    "# Representing the data in structured form"
   ]
  },
  {
   "cell_type": "code",
   "execution_count": null,
   "metadata": {},
   "outputs": [],
   "source": [
    "# load the pandas package\n",
    "import pandas as pd"
   ]
  },
  {
   "cell_type": "markdown",
   "metadata": {},
   "source": [
    "## Creating a Data Frame"
   ]
  },
  {
   "cell_type": "code",
   "execution_count": null,
   "metadata": {},
   "outputs": [],
   "source": [
    "movies_info = pd.DataFrame()\n",
    "movies_info[\"Movie Title\"] = movie_names\n",
    "movies_info[\"Year\"] = years\n",
    "movies_info[\"Score\"] = scores\n",
    "movies_info[\"Director\"] = final_directors\n",
    "movies_info[\"Synopsis\"] = synopsis_text  \n",
    "movies_info[\"Cast\"] = cast\n",
    "movies_info[\"Consensus\"] = consensus_text\n",
    "\n",
    "# Let's see how it looks\n",
    "movies_info"
   ]
  },
  {
   "cell_type": "code",
   "execution_count": null,
   "metadata": {},
   "outputs": [],
   "source": [
    "# By default pandas abbreviates any text beyond a certain length (as seen in the Cast and Consensus columns)\n",
    "\n",
    "# We can change that by setting the maximum column width to -1,\n",
    "# which means the column would be as wide as to display the whole text\n",
    "pd.set_option('display.max_colwidth', -1)\n",
    "movies_info"
   ]
  },
  {
   "cell_type": "markdown",
   "metadata": {},
   "source": [
    "## Exporting the data to CSV (comma-separated values) and excel files"
   ]
  },
  {
   "cell_type": "code",
   "execution_count": null,
   "metadata": {},
   "outputs": [],
   "source": [
    "# Write data to excel file\n",
    "movies_info.to_excel(\"movies_info.xlsx\", index = False, header = True)"
   ]
  },
  {
   "cell_type": "code",
   "execution_count": null,
   "metadata": {},
   "outputs": [],
   "source": [
    "# or write data to CSV file\n",
    "movies_info.to_csv(\"movies_info.csv\", index = False, header = True)"
   ]
  }
 ],
 "metadata": {
  "kernelspec": {
   "display_name": "Python 3",
   "language": "python",
   "name": "python3"
  },
  "language_info": {
   "codemirror_mode": {
    "name": "ipython",
    "version": 3
   },
   "file_extension": ".py",
   "mimetype": "text/x-python",
   "name": "python",
   "nbconvert_exporter": "python",
   "pygments_lexer": "ipython3",
   "version": "3.8.5"
  }
 },
 "nbformat": 4,
 "nbformat_minor": 2
}
